{
 "cells": [
  {
   "cell_type": "markdown",
   "id": "c79ffd3c",
   "metadata": {},
   "source": [
    "# API Pokemon"
   ]
  },
  {
   "cell_type": "code",
   "execution_count": null,
   "id": "51cb8e78",
   "metadata": {},
   "outputs": [],
   "source": [
    "import requests\n",
    "res = requests.get('https://pokeapi.com/api/v2/pokemon/pikachu')\n",
    "print(res.text)\n",
    "print(type(res.text))\n",
    "dados_pokemon = res.json() # Faz a conversão da string para um dicionário de fato \n",
    "print(type(dados_pokemon))"
   ]
  },
  {
   "cell_type": "code",
   "execution_count": null,
   "id": "702fac14",
   "metadata": {},
   "outputs": [],
   "source": [
    "# Verificamos as chaves do dicionário\n",
    "for chave in dados_pokemon.keys():\n",
    "    print(chave)"
   ]
  },
  {
   "cell_type": "code",
   "execution_count": null,
   "id": "5a6dc503",
   "metadata": {},
   "outputs": [],
   "source": [
    "# Acessando dados d dicionário utilizando as chaves\n",
    "print(dados_pokemon['name'])\n",
    "print(dados_pokemon['moves'])\n",
    "print(dados_pokemon['types'])\n"
   ]
  },
  {
   "cell_type": "code",
   "execution_count": 1,
   "id": "4d6cf595",
   "metadata": {},
   "outputs": [
    {
     "name": "stdout",
     "output_type": "stream",
     "text": [
      "nome: charmander\n",
      "Tipos:  fire\n"
     ]
    }
   ],
   "source": [
    "# Customizar a busca pelo nome\n",
    "import requests\n",
    "pokemon = input('Digite o nome de um pokemn: ').lower()\n",
    "url=f'https://pokeapi.co/api/v2/pokemon/{pokemon}'\n",
    "res = requests.get(url)\n",
    "\n",
    "if res.status_code == 200:\n",
    "    data = res.json()\n",
    "    print(f'nome: {data['name']}')\n",
    "    print('Tipos: ',','.join(t['type']['name']for t in data['types']))\n",
    "else:\n",
    "    print('Pokémon não encontrado')"
   ]
  }
 ],
 "metadata": {
  "kernelspec": {
   "display_name": "Python 3",
   "language": "python",
   "name": "python3"
  },
  "language_info": {
   "codemirror_mode": {
    "name": "ipython",
    "version": 3
   },
   "file_extension": ".py",
   "mimetype": "text/x-python",
   "name": "python",
   "nbconvert_exporter": "python",
   "pygments_lexer": "ipython3",
   "version": "3.13.2"
  }
 },
 "nbformat": 4,
 "nbformat_minor": 5
}
